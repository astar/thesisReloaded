{
 "metadata": {
  "name": "Untitled0"
 },
 "nbformat": 3,
 "nbformat_minor": 0,
 "worksheets": [
  {
   "cells": [
    {
     "cell_type": "heading",
     "level": 2,
     "metadata": {},
     "source": [
      "Working with fits files"
     ]
    },
    {
     "cell_type": "heading",
     "level": 3,
     "metadata": {},
     "source": [
      "Sloan Digital Sky Survey DR8"
     ]
    },
    {
     "cell_type": "code",
     "collapsed": false,
     "input": [
      "import pyfits as pf \n",
      "# import library for fits\n",
      "# viz http://www.stsci.edu/institute/software_hardware/pyfits\n",
      "# for other languages see http://fits.gsfc.nasa.gov/"
     ],
     "language": "python",
     "metadata": {},
     "outputs": [],
     "prompt_number": 2
    },
    {
     "cell_type": "code",
     "collapsed": false,
     "input": [
      "hdulist = pf.open(\"sdss_dr8.fits\")\n",
      "hdulist.info()"
     ],
     "language": "python",
     "metadata": {},
     "outputs": [
      {
       "output_type": "stream",
       "stream": "stdout",
       "text": [
        "Filename: sdss_dr8.fits\n",
        "No.    Name         Type      Cards   Dimensions   Format\n",
        "0    PRIMARY     PrimaryHDU       4   ()           uint8   \n",
        "1                BinTableHDU    167   3855R x 6C   [D, D, D, J, J, D]   \n"
       ]
      }
     ],
     "prompt_number": 75
    },
    {
     "cell_type": "heading",
     "level": 5,
     "metadata": {},
     "source": [
      "There are 2 HDU (Header Data Unit)\n",
      "We are interested in Binary table with data"
     ]
    },
    {
     "cell_type": "code",
     "collapsed": false,
     "input": [
      "print hdulist[1].header # informations from header"
     ],
     "language": "python",
     "metadata": {},
     "outputs": [
      {
       "output_type": "stream",
       "stream": "stdout",
       "text": [
        "XTENSION= 'BINTABLE'           / binary table extension                         \n",
        "BITPIX  =                    8 / array data type                                \n",
        "NAXIS   =                    2 / number of array dimensions                     \n",
        "NAXIS1  =                   16 / length of dimension 1                          \n",
        "NAXIS2  =                 1997 / length of dimension 2                          \n",
        "PCOUNT  =                    0 / number of group parameters                     \n",
        "GCOUNT  =                    1 / number of groups                               \n",
        "TFIELDS =                    2 / number of table fields                         \n",
        "TTYPE1  = 'WAVE    '                                                            \n",
        "TFORM1  = 'D       '                                                            \n",
        "TUNIT1  = 'Angstrom'                                                            \n",
        "TTYPE2  = 'FLUX    '                                                            \n",
        "TFORM2  = 'D       '                                                            \n",
        "TUNIT2  = 'erg/cm^2/s/Angstrom'                                                 \n",
        "TUCD1   = 'em.wl   '                                                            \n",
        "TUTYP1  = 'spec:Data.SpectralAxis.Value'                                        \n",
        "TUCD2   = 'phot.fluxDens;em.wl'                                                 \n",
        "TUTYP2  = 'spec:Data.FluxAxis.Value'                                            \n",
        "DATALEN =                 1997 / Spectral axis length                           \n"
       ]
      }
     ],
     "prompt_number": 95
    },
    {
     "cell_type": "code",
     "collapsed": false,
     "input": [
      "data = hdulist[1].data['wavelength'], hdulist[1].data['flux'] # we need just wavelength and flux"
     ],
     "language": "python",
     "metadata": {},
     "outputs": [],
     "prompt_number": 77
    },
    {
     "cell_type": "code",
     "collapsed": false,
     "input": [
      "plot(data[0], data[1]) # \u03b3\u03b5\u03bd\u03b7\u03b8\u03ae\u03c4\u03c9 \u03c6\u1ff6\u03c2\n",
      "xlabel(\"$Wavelenght [\\\\AA]$\")\n",
      "ylabel(\"$Energy [10^{-17} erg/s/cm^2/\\\\AA]$\")"
     ],
     "language": "python",
     "metadata": {},
     "outputs": [
      {
       "output_type": "pyout",
       "prompt_number": 39,
       "text": [
        "<matplotlib.text.Text at 0x3889a10>"
       ]
      },
      {
       "output_type": "display_data",
       "png": "[encoded data removed]"
      }
     ],
     "prompt_number": 39
    },
    {
     "cell_type": "code",
     "collapsed": false,
     "input": [
      "import csv # save data to the csv file\n",
      "with open(\"sdss_dr8.csv\", \"wb\") as f:\n",
      "    fileWriter = csv.writer(f, delimiter=',',quotechar='|', quoting=csv.QUOTE_MINIMAL)\n",
      "    for row in zip(*data):\n",
      "        fileWriter.writerow(row)"
     ],
     "language": "python",
     "metadata": {},
     "outputs": [],
     "prompt_number": 84
    },
    {
     "cell_type": "heading",
     "level": 3,
     "metadata": {},
     "source": [
      "Ondrejovsky fits soubor"
     ]
    },
    {
     "cell_type": "code",
     "collapsed": false,
     "input": [
      "hdulist = pf.open(\"ond_spectrum.fits\")\n",
      "hdulist.info()"
     ],
     "language": "python",
     "metadata": {},
     "outputs": [
      {
       "output_type": "stream",
       "stream": "stdout",
       "text": [
        "Filename: ond_spectrum.fits\n",
        "No.    Name         Type      Cards   Dimensions   Format\n",
        "0    PRIMARY     PrimaryHDU     129   ()           uint8   \n",
        "1                BinTableHDU     19   1997R x 2C   [D, D]   \n"
       ]
      }
     ],
     "prompt_number": 87
    },
    {
     "cell_type": "code",
     "collapsed": false,
     "input": [
      "print hdulist[0].header[\"OBJECT\"] # there are lots of informations in the header e.g. object name"
     ],
     "language": "python",
     "metadata": {},
     "outputs": [
      {
       "output_type": "stream",
       "stream": "stdout",
       "text": [
        "4 Her\n"
       ]
      }
     ],
     "prompt_number": 92
    },
    {
     "cell_type": "code",
     "collapsed": false,
     "input": [
      "data = hdulist[1].data['WAVE'], hdulist[1].data['FLUX'] # keywords are not allways the same"
     ],
     "language": "python",
     "metadata": {},
     "outputs": [],
     "prompt_number": 82
    },
    {
     "cell_type": "code",
     "collapsed": false,
     "input": [
      "import csv # save data to the csv file\n",
      "with open(\"ond_spectrum.csv\", \"wb\") as f:\n",
      "    fileWriter = csv.writer(f, delimiter=',',quotechar='|', quoting=csv.QUOTE_MINIMAL)\n",
      "    for row in zip(*data):\n",
      "        fileWriter.writerow(row)"
     ],
     "language": "python",
     "metadata": {},
     "outputs": [],
     "prompt_number": 96
    },
    {
     "cell_type": "code",
     "collapsed": false,
     "input": [
      "plot(data[0], data[1]) # dixitque Deus fiat lux et facta est lux\n",
      "xlabel(\"$Wavelenght [\\\\AA]$\")\n",
      "ylabel(\"$ADU$\")"
     ],
     "language": "python",
     "metadata": {},
     "outputs": [
      {
       "output_type": "pyout",
       "prompt_number": 97,
       "text": [
        "<matplotlib.text.Text at 0x40a9f90>"
       ]
      },
      {
       "output_type": "display_data",
       "png": "[encoded data removed]"
      }
     ],
     "prompt_number": 97
    }
   ],
   "metadata": {}
  }
 ]
}