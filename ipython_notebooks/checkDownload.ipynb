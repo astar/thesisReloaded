{
 "metadata": {
  "name": "checkDownload"
 }, 
 "nbformat": 2, 
 "worksheets": [
  {
   "cells": [
    {
     "cell_type": "code", 
     "collapsed": true, 
     "input": [
      "import pandas as p"
     ], 
     "language": "python", 
     "outputs": [], 
     "prompt_number": 2
    }, 
    {
     "cell_type": "code", 
     "collapsed": true, 
     "input": [
      "dir = '../data/'"
     ], 
     "language": "python", 
     "outputs": [], 
     "prompt_number": 4
    }, 
    {
     "cell_type": "code", 
     "collapsed": false, 
     "input": [
      "cas_programs = p.read_csv('../data/sdss_programs.csv')", 
      "fs_programs = p.read_csv('../data/fs_programs.csv')"
     ], 
     "language": "python", 
     "outputs": [], 
     "prompt_number": 29
    }, 
    {
     "cell_type": "code", 
     "collapsed": false, 
     "input": [
      "cas_fs = p.merge(cas_programs, fs_programs)"
     ], 
     "language": "python", 
     "outputs": [], 
     "prompt_number": 30
    }, 
    {
     "cell_type": "code", 
     "collapsed": false, 
     "input": [
      "cas_fs['dif'] = (cas_fs['objects'] - cas_fs['fsobjects'])"
     ], 
     "language": "python", 
     "outputs": [], 
     "prompt_number": 43
    }, 
    {
     "cell_type": "code", 
     "collapsed": false, 
     "input": [
      "cas_fs"
     ], 
     "language": "python", 
     "outputs": [
      {
       "html": [
        "<div style=\"max-height:1000px;max-width:1500px;overflow:auto;\">", 
        "<table border=\"1\">", 
        "  <thead>", 
        "    <tr>", 
        "      <th></th>", 
        "      <th>survey</th>", 
        "      <th>programname</th>", 
        "      <th>objects</th>", 
        "      <th>fsobjects</th>", 
        "      <th>dif</th>", 
        "    </tr>", 
        "    </thead>", 
        "    <tbody>", 
        "    <tr>", 
        "      <td><strong>0</strong></td>", 
        "      <td>   sdss</td>", 
        "      <td>        apbias</td>", 
        "      <td>   1920</td>", 
        "      <td>   1920</td>", 
        "      <td>    0</td>", 
        "    </tr>", 
        "    <tr>", 
        "      <td><strong>1</strong></td>", 
        "      <td>   sdss</td>", 
        "      <td> commissioning</td>", 
        "      <td>   1920</td>", 
        "      <td>   1920</td>", 
        "      <td>    0</td>", 
        "    </tr>", 
        "    <tr>", 
        "      <td><strong>2</strong></td>", 
        "      <td>   sdss</td>", 
        "      <td>          disk</td>", 
        "      <td>  10240</td>", 
        "      <td>   8645</td>", 
        "      <td> 1595</td>", 
        "    </tr>", 
        "    <tr>", 
        "      <td><strong>3</strong></td>", 
        "      <td>   sdss</td>", 
        "      <td>      southern</td>", 
        "      <td>  85760</td>", 
        "      <td>  85760</td>", 
        "      <td>    0</td>", 
        "    </tr>", 
        "    <tr>", 
        "      <td><strong>4</strong></td>", 
        "      <td> segue1</td>", 
        "      <td>    segcluster</td>", 
        "      <td>   9600</td>", 
        "      <td>   9600</td>", 
        "      <td>    0</td>", 
        "    </tr>", 
        "    <tr>", 
        "      <td><strong>5</strong></td>", 
        "      <td> segue1</td>", 
        "      <td>   segclusterf</td>", 
        "      <td>   5120</td>", 
        "      <td>   5120</td>", 
        "      <td>    0</td>", 
        "    </tr>", 
        "    <tr>", 
        "      <td><strong>6</strong></td>", 
        "      <td> segue1</td>", 
        "      <td>     seglowlat</td>", 
        "      <td>   8960</td>", 
        "      <td>   8960</td>", 
        "      <td>    0</td>", 
        "    </tr>", 
        "    <tr>", 
        "      <td><strong>7</strong></td>", 
        "      <td> segue1</td>", 
        "      <td>    seglowlatf</td>", 
        "      <td>   7040</td>", 
        "      <td>   7040</td>", 
        "      <td>    0</td>", 
        "    </tr>", 
        "    <tr>", 
        "      <td><strong>8</strong></td>", 
        "      <td> segue1</td>", 
        "      <td>    segpointed</td>", 
        "      <td>  10240</td>", 
        "      <td>  10240</td>", 
        "      <td>    0</td>", 
        "    </tr>", 
        "    <tr>", 
        "      <td><strong>9</strong></td>", 
        "      <td> segue1</td>", 
        "      <td>   segpointedf</td>", 
        "      <td>  10240</td>", 
        "      <td>  10240</td>", 
        "      <td>    0</td>", 
        "    </tr>", 
        "    <tr>", 
        "      <td><strong>10</strong></td>", 
        "      <td> segue1</td>", 
        "      <td>       segtest</td>", 
        "      <td>   7040</td>", 
        "      <td>   7040</td>", 
        "      <td>    0</td>", 
        "    </tr>", 
        "    <tr>", 
        "      <td><strong>11</strong></td>", 
        "      <td> segue1</td>", 
        "      <td>      segtestf</td>", 
        "      <td>   2560</td>", 
        "      <td>   2560</td>", 
        "      <td>    0</td>", 
        "    </tr>", 
        "    <tr>", 
        "      <td><strong>12</strong></td>", 
        "      <td> segue1</td>", 
        "      <td>         segue</td>", 
        "      <td> 115200</td>", 
        "      <td> 115200</td>", 
        "      <td>    0</td>", 
        "    </tr>", 
        "    <tr>", 
        "      <td><strong>13</strong></td>", 
        "      <td> segue1</td>", 
        "      <td>    seguefaint</td>", 
        "      <td> 106880</td>", 
        "      <td> 106880</td>", 
        "      <td>    0</td>", 
        "    </tr>", 
        "    <tr>", 
        "      <td><strong>14</strong></td>", 
        "      <td> segue2</td>", 
        "      <td>    segcluster</td>", 
        "      <td>   1280</td>", 
        "      <td>   1280</td>", 
        "      <td>    0</td>", 
        "    </tr>", 
        "    <tr>", 
        "      <td><strong>15</strong></td>", 
        "      <td> segue2</td>", 
        "      <td>        segue2</td>", 
        "      <td> 133760</td>", 
        "      <td> 133760</td>", 
        "      <td>    0</td>", 
        "    </tr>", 
        "  </tbody>", 
        "</table>", 
        "", 
        "</div>"
       ], 
       "output_type": "pyout", 
       "prompt_number": 51, 
       "text": [
        "    survey    programname  objects  fsobjects   dif", 
        "0     sdss         apbias     1920       1920     0", 
        "1     sdss  commissioning     1920       1920     0", 
        "2     sdss           disk    10240       8645  1595", 
        "3     sdss       southern    85760      85760     0", 
        "4   segue1     segcluster     9600       9600     0", 
        "5   segue1    segclusterf     5120       5120     0", 
        "6   segue1      seglowlat     8960       8960     0", 
        "7   segue1     seglowlatf     7040       7040     0", 
        "8   segue1     segpointed    10240      10240     0", 
        "9   segue1    segpointedf    10240      10240     0", 
        "10  segue1        segtest     7040       7040     0", 
        "11  segue1       segtestf     2560       2560     0", 
        "12  segue1          segue   115200     115200     0", 
        "13  segue1     seguefaint   106880     106880     0", 
        "14  segue2     segcluster     1280       1280     0", 
        "15  segue2         segue2   133760     133760     0"
       ]
      }
     ], 
     "prompt_number": 51
    }, 
    {
     "cell_type": "code", 
     "collapsed": false, 
     "input": [
      "cas_fs[cas_fs['dif'] != 0]"
     ], 
     "language": "python", 
     "outputs": [
      {
       "html": [
        "<div style=\"max-height:1000px;max-width:1500px;overflow:auto;\">", 
        "<table border=\"1\">", 
        "  <thead>", 
        "    <tr>", 
        "      <th></th>", 
        "      <th>survey</th>", 
        "      <th>programname</th>", 
        "      <th>objects</th>", 
        "      <th>fsobjects</th>", 
        "      <th>dif</th>", 
        "    </tr>", 
        "    </thead>", 
        "    <tbody>", 
        "    <tr>", 
        "      <td><strong>2</strong></td>", 
        "      <td> sdss</td>", 
        "      <td> disk</td>", 
        "      <td> 10240</td>", 
        "      <td> 8645</td>", 
        "      <td> 1595</td>", 
        "    </tr>", 
        "  </tbody>", 
        "</table>", 
        "", 
        "</div>"
       ], 
       "output_type": "pyout", 
       "prompt_number": 50, 
       "text": [
        "  survey programname  objects  fsobjects   dif", 
        "2   sdss        disk    10240       8645  1595"
       ]
      }
     ], 
     "prompt_number": 50
    }, 
    {
     "cell_type": "code", 
     "collapsed": false, 
     "input": [
      ""
     ], 
     "language": "python", 
     "outputs": [
      {
       "ename": "KeyError", 
       "evalue": "'no item named (0, 0)'", 
       "output_type": "pyerr", 
       "traceback": [
        "<span class=\"ansired\">---------------------------------------------------------------------------</span>\n<span class=\"ansired\">KeyError</span>                                  Traceback (most recent call last)", 
        "<span class=\"ansigreen\">/home/astar/projects/thesisReloaded/pandas/&lt;ipython-input-17-dd99ee8121ab&gt;</span> in <span class=\"ansicyan\">&lt;module&gt;</span><span class=\"ansiblue\">()</span>\n<span class=\"ansigreen\">----&gt; 1</span><span class=\"ansired\"> </span>cas_fs<span class=\"ansiblue\">[</span><span class=\"ansicyan\">0</span><span class=\"ansiblue\">,</span><span class=\"ansicyan\">0</span><span class=\"ansiblue\">]</span><span class=\"ansiblue\"></span>\n", 
        "<span class=\"ansigreen\">/usr/local/lib/python2.7/dist-packages/pandas/core/frame.pyc</span> in <span class=\"ansicyan\">__getitem__</span><span class=\"ansiblue\">(self, key)</span>\n<span class=\"ansigreen\">   1428</span>             <span class=\"ansigreen\">return</span> self<span class=\"ansiblue\">.</span>_getitem_multilevel<span class=\"ansiblue\">(</span>key<span class=\"ansiblue\">)</span><span class=\"ansiblue\"></span>\n<span class=\"ansigreen\">   1429</span>         <span class=\"ansigreen\">else</span><span class=\"ansiblue\">:</span><span class=\"ansiblue\"></span>\n<span class=\"ansigreen\">-&gt; 1430</span><span class=\"ansired\">             </span><span class=\"ansigreen\">return</span> self<span class=\"ansiblue\">.</span>_get_item_cache<span class=\"ansiblue\">(</span>key<span class=\"ansiblue\">)</span><span class=\"ansiblue\"></span>\n<span class=\"ansigreen\">   1431</span> <span class=\"ansiblue\"></span>\n<span class=\"ansigreen\">   1432</span>     <span class=\"ansigreen\">def</span> _getitem_array<span class=\"ansiblue\">(</span>self<span class=\"ansiblue\">,</span> key<span class=\"ansiblue\">)</span><span class=\"ansiblue\">:</span><span class=\"ansiblue\"></span>\n", 
        "<span class=\"ansigreen\">/usr/local/lib/python2.7/dist-packages/pandas/core/generic.pyc</span> in <span class=\"ansicyan\">_get_item_cache</span><span class=\"ansiblue\">(self, item)</span>\n<span class=\"ansigreen\">    289</span>         <span class=\"ansigreen\">except</span> Exception<span class=\"ansiblue\">:</span><span class=\"ansiblue\"></span>\n<span class=\"ansigreen\">    290</span>             <span class=\"ansigreen\">try</span><span class=\"ansiblue\">:</span><span class=\"ansiblue\"></span>\n<span class=\"ansigreen\">--&gt; 291</span><span class=\"ansired\">                 </span>values <span class=\"ansiblue\">=</span> self<span class=\"ansiblue\">.</span>_data<span class=\"ansiblue\">.</span>get<span class=\"ansiblue\">(</span>item<span class=\"ansiblue\">)</span><span class=\"ansiblue\"></span>\n<span class=\"ansigreen\">    292</span>                 res <span class=\"ansiblue\">=</span> self<span class=\"ansiblue\">.</span>_box_item_values<span class=\"ansiblue\">(</span>item<span class=\"ansiblue\">,</span> values<span class=\"ansiblue\">)</span><span class=\"ansiblue\"></span>\n<span class=\"ansigreen\">    293</span>                 cache<span class=\"ansiblue\">[</span>item<span class=\"ansiblue\">]</span> <span class=\"ansiblue\">=</span> res<span class=\"ansiblue\"></span>\n", 
        "<span class=\"ansigreen\">/usr/local/lib/python2.7/dist-packages/pandas/core/internals.pyc</span> in <span class=\"ansicyan\">get</span><span class=\"ansiblue\">(self, item)</span>\n<span class=\"ansigreen\">    623</span> <span class=\"ansiblue\"></span>\n<span class=\"ansigreen\">    624</span>     <span class=\"ansigreen\">def</span> get<span class=\"ansiblue\">(</span>self<span class=\"ansiblue\">,</span> item<span class=\"ansiblue\">)</span><span class=\"ansiblue\">:</span><span class=\"ansiblue\"></span>\n<span class=\"ansigreen\">--&gt; 625</span><span class=\"ansired\">         </span>_<span class=\"ansiblue\">,</span> block <span class=\"ansiblue\">=</span> self<span class=\"ansiblue\">.</span>_find_block<span class=\"ansiblue\">(</span>item<span class=\"ansiblue\">)</span><span class=\"ansiblue\"></span>\n<span class=\"ansigreen\">    626</span>         <span class=\"ansigreen\">return</span> block<span class=\"ansiblue\">.</span>get<span class=\"ansiblue\">(</span>item<span class=\"ansiblue\">)</span><span class=\"ansiblue\"></span>\n<span class=\"ansigreen\">    627</span> <span class=\"ansiblue\"></span>\n", 
        "<span class=\"ansigreen\">/usr/local/lib/python2.7/dist-packages/pandas/core/internals.pyc</span> in <span class=\"ansicyan\">_find_block</span><span class=\"ansiblue\">(self, item)</span>\n<span class=\"ansigreen\">    713</span> <span class=\"ansiblue\"></span>\n<span class=\"ansigreen\">    714</span>     <span class=\"ansigreen\">def</span> _find_block<span class=\"ansiblue\">(</span>self<span class=\"ansiblue\">,</span> item<span class=\"ansiblue\">)</span><span class=\"ansiblue\">:</span><span class=\"ansiblue\"></span>\n<span class=\"ansigreen\">--&gt; 715</span><span class=\"ansired\">         </span>self<span class=\"ansiblue\">.</span>_check_have<span class=\"ansiblue\">(</span>item<span class=\"ansiblue\">)</span><span class=\"ansiblue\"></span>\n<span class=\"ansigreen\">    716</span>         <span class=\"ansigreen\">for</span> i<span class=\"ansiblue\">,</span> block <span class=\"ansigreen\">in</span> enumerate<span class=\"ansiblue\">(</span>self<span class=\"ansiblue\">.</span>blocks<span class=\"ansiblue\">)</span><span class=\"ansiblue\">:</span><span class=\"ansiblue\"></span>\n<span class=\"ansigreen\">    717</span>             <span class=\"ansigreen\">if</span> item <span class=\"ansigreen\">in</span> block<span class=\"ansiblue\">:</span><span class=\"ansiblue\"></span>\n", 
        "<span class=\"ansigreen\">/usr/local/lib/python2.7/dist-packages/pandas/core/internals.pyc</span> in <span class=\"ansicyan\">_check_have</span><span class=\"ansiblue\">(self, item)</span>\n<span class=\"ansigreen\">    720</span>     <span class=\"ansigreen\">def</span> _check_have<span class=\"ansiblue\">(</span>self<span class=\"ansiblue\">,</span> item<span class=\"ansiblue\">)</span><span class=\"ansiblue\">:</span><span class=\"ansiblue\"></span>\n<span class=\"ansigreen\">    721</span>         <span class=\"ansigreen\">if</span> item <span class=\"ansigreen\">not</span> <span class=\"ansigreen\">in</span> self<span class=\"ansiblue\">.</span>items<span class=\"ansiblue\">:</span><span class=\"ansiblue\"></span>\n<span class=\"ansigreen\">--&gt; 722</span><span class=\"ansired\">             </span><span class=\"ansigreen\">raise</span> KeyError<span class=\"ansiblue\">(</span><span class=\"ansiblue\">&apos;no item named %s&apos;</span> <span class=\"ansiblue\">%</span> str<span class=\"ansiblue\">(</span>item<span class=\"ansiblue\">)</span><span class=\"ansiblue\">)</span><span class=\"ansiblue\"></span>\n<span class=\"ansigreen\">    723</span> <span class=\"ansiblue\"></span>\n<span class=\"ansigreen\">    724</span>     <span class=\"ansigreen\">def</span> reindex_axis<span class=\"ansiblue\">(</span>self<span class=\"ansiblue\">,</span> new_axis<span class=\"ansiblue\">,</span> method<span class=\"ansiblue\">=</span>None<span class=\"ansiblue\">,</span> axis<span class=\"ansiblue\">=</span><span class=\"ansicyan\">0</span><span class=\"ansiblue\">,</span> copy<span class=\"ansiblue\">=</span>True<span class=\"ansiblue\">)</span><span class=\"ansiblue\">:</span><span class=\"ansiblue\"></span>\n", 
        "<span class=\"ansired\">KeyError</span>: &apos;no item named (0, 0)&apos;"
       ]
      }
     ], 
     "prompt_number": 17
    }, 
    {
     "cell_type": "code", 
     "collapsed": true, 
     "input": [], 
     "language": "python", 
     "outputs": [], 
     "prompt_number": "&nbsp;"
    }
   ]
  }
 ]
}