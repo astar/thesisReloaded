{
 "metadata": {
  "name": "checkDownload"
 }, 
 "nbformat": 2, 
 "worksheets": [
  {
   "cells": [
    {
     "cell_type": "code", 
     "collapsed": true, 
     "input": [
      "import pandas as p"
     ], 
     "language": "python", 
     "outputs": [], 
     "prompt_number": 2
    }, 
    {
     "cell_type": "code", 
     "collapsed": true, 
     "input": [
      "cas_programs = p.read_csv('../data/sdss_programs.csv')", 
      "fs_programs = p.read_csv('../data/fs_programs.csv')"
     ], 
     "language": "python", 
     "outputs": [], 
     "prompt_number": 4
    }, 
    {
     "cell_type": "code", 
     "collapsed": true, 
     "input": [
      "cas_fs = p.merge(cas_programs, fs_programs)"
     ], 
     "language": "python", 
     "outputs": [], 
     "prompt_number": 6
    }, 
    {
     "cell_type": "code", 
     "collapsed": true, 
     "input": [
      "cas_fs['dif'] = (cas_fs['objects'] - cas_fs['fsobjects'])"
     ], 
     "language": "python", 
     "outputs": [], 
     "prompt_number": 8
    }, 
    {
     "cell_type": "code", 
     "collapsed": false, 
     "input": [
      "cas_fs"
     ], 
     "language": "python", 
     "outputs": [
      {
       "html": [
        "<div style=\"max-height:1000px;max-width:1500px;overflow:auto;\">", 
        "<table border=\"1\">", 
        "  <thead>", 
        "    <tr>", 
        "      <th></th>", 
        "      <th>survey</th>", 
        "      <th>programname</th>", 
        "      <th>objects</th>", 
        "      <th>fsobjects</th>", 
        "      <th>dif</th>", 
        "    </tr>", 
        "    </thead>", 
        "    <tbody>", 
        "    <tr>", 
        "      <td><strong>0</strong></td>", 
        "      <td>   sdss</td>", 
        "      <td>        apbias</td>", 
        "      <td>   1920</td>", 
        "      <td>   1920</td>", 
        "      <td>    0</td>", 
        "    </tr>", 
        "    <tr>", 
        "      <td><strong>1</strong></td>", 
        "      <td>   sdss</td>", 
        "      <td> commissioning</td>", 
        "      <td>   1920</td>", 
        "      <td>   1920</td>", 
        "      <td>    0</td>", 
        "    </tr>", 
        "    <tr>", 
        "      <td><strong>2</strong></td>", 
        "      <td>   sdss</td>", 
        "      <td>          disk</td>", 
        "      <td>  10240</td>", 
        "      <td>   8645</td>", 
        "      <td> 1595</td>", 
        "    </tr>", 
        "    <tr>", 
        "      <td><strong>3</strong></td>", 
        "      <td>   sdss</td>", 
        "      <td>      southern</td>", 
        "      <td>  85760</td>", 
        "      <td>  85760</td>", 
        "      <td>    0</td>", 
        "    </tr>", 
        "    <tr>", 
        "      <td><strong>4</strong></td>", 
        "      <td> segue1</td>", 
        "      <td>    segcluster</td>", 
        "      <td>   9600</td>", 
        "      <td>   9600</td>", 
        "      <td>    0</td>", 
        "    </tr>", 
        "    <tr>", 
        "      <td><strong>5</strong></td>", 
        "      <td> segue1</td>", 
        "      <td>   segclusterf</td>", 
        "      <td>   5120</td>", 
        "      <td>   5120</td>", 
        "      <td>    0</td>", 
        "    </tr>", 
        "    <tr>", 
        "      <td><strong>6</strong></td>", 
        "      <td> segue1</td>", 
        "      <td>     seglowlat</td>", 
        "      <td>   8960</td>", 
        "      <td>   8960</td>", 
        "      <td>    0</td>", 
        "    </tr>", 
        "    <tr>", 
        "      <td><strong>7</strong></td>", 
        "      <td> segue1</td>", 
        "      <td>    seglowlatf</td>", 
        "      <td>   7040</td>", 
        "      <td>   7040</td>", 
        "      <td>    0</td>", 
        "    </tr>", 
        "    <tr>", 
        "      <td><strong>8</strong></td>", 
        "      <td> segue1</td>", 
        "      <td>    segpointed</td>", 
        "      <td>  10240</td>", 
        "      <td>  10240</td>", 
        "      <td>    0</td>", 
        "    </tr>", 
        "    <tr>", 
        "      <td><strong>9</strong></td>", 
        "      <td> segue1</td>", 
        "      <td>   segpointedf</td>", 
        "      <td>  10240</td>", 
        "      <td>  10240</td>", 
        "      <td>    0</td>", 
        "    </tr>", 
        "    <tr>", 
        "      <td><strong>10</strong></td>", 
        "      <td> segue1</td>", 
        "      <td>       segtest</td>", 
        "      <td>   7040</td>", 
        "      <td>   7040</td>", 
        "      <td>    0</td>", 
        "    </tr>", 
        "    <tr>", 
        "      <td><strong>11</strong></td>", 
        "      <td> segue1</td>", 
        "      <td>      segtestf</td>", 
        "      <td>   2560</td>", 
        "      <td>   2560</td>", 
        "      <td>    0</td>", 
        "    </tr>", 
        "    <tr>", 
        "      <td><strong>12</strong></td>", 
        "      <td> segue1</td>", 
        "      <td>         segue</td>", 
        "      <td> 115200</td>", 
        "      <td> 115200</td>", 
        "      <td>    0</td>", 
        "    </tr>", 
        "    <tr>", 
        "      <td><strong>13</strong></td>", 
        "      <td> segue1</td>", 
        "      <td>    seguefaint</td>", 
        "      <td> 106880</td>", 
        "      <td> 106880</td>", 
        "      <td>    0</td>", 
        "    </tr>", 
        "    <tr>", 
        "      <td><strong>14</strong></td>", 
        "      <td> segue2</td>", 
        "      <td>    segcluster</td>", 
        "      <td>   1280</td>", 
        "      <td>   1280</td>", 
        "      <td>    0</td>", 
        "    </tr>", 
        "    <tr>", 
        "      <td><strong>15</strong></td>", 
        "      <td> segue2</td>", 
        "      <td>        segue2</td>", 
        "      <td> 133760</td>", 
        "      <td> 133760</td>", 
        "      <td>    0</td>", 
        "    </tr>", 
        "  </tbody>", 
        "</table>", 
        "</div>"
       ], 
       "output_type": "pyout", 
       "prompt_number": 10, 
       "text": [
        "    survey    programname  objects  fsobjects   dif", 
        "0     sdss         apbias     1920       1920     0", 
        "1     sdss  commissioning     1920       1920     0", 
        "2     sdss           disk    10240       8645  1595", 
        "3     sdss       southern    85760      85760     0", 
        "4   segue1     segcluster     9600       9600     0", 
        "5   segue1    segclusterf     5120       5120     0", 
        "6   segue1      seglowlat     8960       8960     0", 
        "7   segue1     seglowlatf     7040       7040     0", 
        "8   segue1     segpointed    10240      10240     0", 
        "9   segue1    segpointedf    10240      10240     0", 
        "10  segue1        segtest     7040       7040     0", 
        "11  segue1       segtestf     2560       2560     0", 
        "12  segue1          segue   115200     115200     0", 
        "13  segue1     seguefaint   106880     106880     0", 
        "14  segue2     segcluster     1280       1280     0", 
        "15  segue2         segue2   133760     133760     0"
       ]
      }
     ], 
     "prompt_number": 10
    }, 
    {
     "cell_type": "code", 
     "collapsed": false, 
     "input": [
      "plot(rand(5))"
     ], 
     "language": "python", 
     "outputs": [
      {
       "output_type": "pyout", 
       "prompt_number": 11, 
       "text": [
        "[&lt;matplotlib.lines.Line2D at 0x9c41cec&gt;]"
       ]
      }, 
      {
       "output_type": "display_data", 
       "png": "[encoded data removed]"
      }
     ], 
     "prompt_number": 11
    }
   ]
  }
 ]
}