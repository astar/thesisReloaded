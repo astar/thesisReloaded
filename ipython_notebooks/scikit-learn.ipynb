{
 "metadata": {
  "name": "scikit-learn"
 },
 "nbformat": 3,
 "worksheets": [
  {
   "cells": [
    {
     "cell_type": "code",
     "collapsed": true,
     "input": [
      "from pandas import *",
      "import numpy as np",
      "set_printoptions(max_rows=200, max_columns=30)"
     ],
     "language": "python",
     "outputs": [],
     "prompt_number": 2
    },
    {
     "cell_type": "code",
     "collapsed": false,
     "input": [
      "fluxes = read_csv('../data/ondrejov/trainning2/fluxes.csv')"
     ],
     "language": "python",
     "outputs": [],
     "prompt_number": 5
    },
    {
     "cell_type": "code",
     "collapsed": false,
     "input": [
      "stars = fluxes.groupby(['group','dir_name']).size()"
     ],
     "language": "python",
     "outputs": [],
     "prompt_number": 191
    },
    {
     "cell_type": "code",
     "collapsed": false,
     "input": [
      "g = stars.groupby(level = 0).size()"
     ],
     "language": "python",
     "outputs": [],
     "prompt_number": 196
    },
    {
     "cell_type": "code",
     "collapsed": false,
     "input": [
      "g.plot(kind ='bar')"
     ],
     "language": "python",
     "outputs": [
      {
       "output_type": "pyout",
       "prompt_number": 197,
       "text": [
        "<matplotlib.axes.AxesSubplot at 0xae9580c>"
       ]
      },
      {
       "output_type": "display_data",
       "png": "[encoded data removed]"
      }
     ],
     "prompt_number": 197
    },
    {
     "cell_type": "code",
     "collapsed": false,
     "input": [
      "g"
     ],
     "language": "python",
     "outputs": [
      {
       "output_type": "pyout",
       "prompt_number": 199,
       "text": [
        "group",
        "0        151",
        "1         13",
        "2          1",
        "3         19",
        "4         16",
        "5        101",
        "6          1",
        "7          2",
        "8        165",
        "9        174",
        "x         21"
       ]
      }
     ],
     "prompt_number": 199
    },
    {
     "cell_type": "code",
     "collapsed": false,
     "input": [
      "mag = g['group', 'B','U','V','H', 'I', 'J', 'K', 'R', 'g', 'i', 'r', 'u', 'z'].median()"
     ],
     "language": "python",
     "outputs": [],
     "prompt_number": 87
    },
    {
     "cell_type": "code",
     "collapsed": false,
     "input": [
      "mag.head()"
     ],
     "language": "python",
     "outputs": [
      {
       "html": [
        "<div style=\"max-height:1000px;max-width:1500px;overflow:auto;\">",
        "<table border=\"1\">",
        "  <thead>",
        "    <tr>",
        "      <th></th>",
        "      <th>B</th>",
        "      <th>U</th>",
        "      <th>V</th>",
        "      <th>H</th>",
        "      <th>I</th>",
        "      <th>J</th>",
        "      <th>K</th>",
        "      <th>R</th>",
        "      <th>g</th>",
        "      <th>i</th>",
        "      <th>r</th>",
        "      <th>u</th>",
        "      <th>z</th>",
        "    </tr>",
        "    <tr>",
        "      <th>correct_name</th>",
        "      <th></th>",
        "      <th></th>",
        "      <th></th>",
        "      <th></th>",
        "      <th></th>",
        "      <th></th>",
        "      <th></th>",
        "      <th></th>",
        "      <th></th>",
        "      <th></th>",
        "      <th></th>",
        "      <th></th>",
        "      <th></th>",
        "    </tr>",
        "  </thead>",
        "  <tbody>",
        "    <tr>",
        "      <td><strong>1 Del</strong></td>",
        "      <td> 6.032</td>",
        "      <td>  NaN</td>",
        "      <td> 6.054</td>",
        "      <td> 6.022</td>",
        "      <td>NaN</td>",
        "      <td> 5.976</td>",
        "      <td> 5.954</td>",
        "      <td>NaN</td>",
        "      <td>NaN</td>",
        "      <td>NaN</td>",
        "      <td>NaN</td>",
        "      <td>NaN</td>",
        "      <td>NaN</td>",
        "    </tr>",
        "    <tr>",
        "      <td><strong>10 Cas</strong></td>",
        "      <td> 5.541</td>",
        "      <td> 5.37</td>",
        "      <td> 5.567</td>",
        "      <td> 5.470</td>",
        "      <td>NaN</td>",
        "      <td> 5.463</td>",
        "      <td> 5.468</td>",
        "      <td>NaN</td>",
        "      <td>NaN</td>",
        "      <td>NaN</td>",
        "      <td>NaN</td>",
        "      <td>NaN</td>",
        "      <td>NaN</td>",
        "    </tr>",
        "    <tr>",
        "      <td><strong>105 Tau</strong></td>",
        "      <td> 6.080</td>",
        "      <td> 5.51</td>",
        "      <td> 5.920</td>",
        "      <td> 4.961</td>",
        "      <td>NaN</td>",
        "      <td> 5.197</td>",
        "      <td> 4.775</td>",
        "      <td>NaN</td>",
        "      <td>NaN</td>",
        "      <td>NaN</td>",
        "      <td>NaN</td>",
        "      <td>NaN</td>",
        "      <td>NaN</td>",
        "    </tr>",
        "    <tr>",
        "      <td><strong>11 Cam</strong></td>",
        "      <td> 5.000</td>",
        "      <td> 4.31</td>",
        "      <td> 5.030</td>",
        "      <td> 5.021</td>",
        "      <td>NaN</td>",
        "      <td> 5.424</td>",
        "      <td> 4.906</td>",
        "      <td>NaN</td>",
        "      <td>NaN</td>",
        "      <td>NaN</td>",
        "      <td>NaN</td>",
        "      <td>NaN</td>",
        "      <td>NaN</td>",
        "    </tr>",
        "    <tr>",
        "      <td><strong>11 Cyg</strong></td>",
        "      <td> 5.949</td>",
        "      <td> 5.42</td>",
        "      <td> 6.028</td>",
        "      <td> 6.163</td>",
        "      <td>NaN</td>",
        "      <td> 6.072</td>",
        "      <td> 6.143</td>",
        "      <td>NaN</td>",
        "      <td>NaN</td>",
        "      <td>NaN</td>",
        "      <td>NaN</td>",
        "      <td>NaN</td>",
        "      <td>NaN</td>",
        "    </tr>",
        "  </tbody>",
        "</table>",
        "</div>"
       ],
       "output_type": "pyout",
       "prompt_number": 95,
       "text": [
        "                  B     U      V      H   I      J      K   R   g   i   r   u   z",
        "correct_name                                                                     ",
        "1 Del         6.032   NaN  6.054  6.022 NaN  5.976  5.954 NaN NaN NaN NaN NaN NaN",
        "10 Cas        5.541  5.37  5.567  5.470 NaN  5.463  5.468 NaN NaN NaN NaN NaN NaN",
        "105 Tau       6.080  5.51  5.920  4.961 NaN  5.197  4.775 NaN NaN NaN NaN NaN NaN",
        "11 Cam        5.000  4.31  5.030  5.021 NaN  5.424  4.906 NaN NaN NaN NaN NaN NaN",
        "11 Cyg        5.949  5.42  6.028  6.163 NaN  6.072  6.143 NaN NaN NaN NaN NaN NaN"
       ]
      }
     ],
     "prompt_number": 95
    },
    {
     "cell_type": "code",
     "collapsed": false,
     "input": [
      "scatter(mag['U'] - mag['B'], mag['B'] - mag['V'])"
     ],
     "language": "python",
     "outputs": [
      {
       "output_type": "pyout",
       "prompt_number": 90,
       "text": [
        "<matplotlib.collections.PathCollection at 0xa70874c>"
       ]
      },
      {
       "output_type": "display_data",
       "png": "[encoded data removed]"
      }
     ],
     "prompt_number": 90
    }
   ]
  }
 ]
}