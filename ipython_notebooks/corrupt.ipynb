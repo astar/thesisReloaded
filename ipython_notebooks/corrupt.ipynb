{
 "metadata": {
  "name": "corrupt"
 }, 
 "nbformat": 2, 
 "worksheets": [
  {
   "cells": [
    {
     "cell_type": "code", 
     "collapsed": true, 
     "input": [
      "import pandas as p"
     ], 
     "language": "python", 
     "outputs": [], 
     "prompt_number": 1
    }, 
    {
     "cell_type": "code", 
     "collapsed": false, 
     "input": [
      "p.read_csv('../log/sdss_corrupt.log')"
     ], 
     "language": "python", 
     "outputs": [
      {
       "output_type": "pyout", 
       "prompt_number": 2, 
       "text": [
        "&lt;class &apos;pandas.core.frame.DataFrame&apos;&gt;", 
        "Int64Index: 492 entries, 0 to 491", 
        "Data columns:", 
        "./southern/758904402894415872.fits    492  non-null values", 
        "59                                    492  non-null values", 
        "52201                                 492  non-null values", 
        "674                                   492  non-null values", 
        "174                                   492  non-null values", 
        "3855                                  492  non-null values", 
        "3796                                  492  non-null values", 
        "dtypes: int64(6), object(1)"
       ]
      }
     ], 
     "prompt_number": 2
    }
   ]
  }
 ]
}