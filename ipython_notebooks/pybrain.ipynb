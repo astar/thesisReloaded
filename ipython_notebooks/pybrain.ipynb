{
 "metadata": {
  "name": "pybrain"
 },
 "nbformat": 3,
 "nbformat_minor": 0,
 "worksheets": [
  {
   "cells": [
    {
     "cell_type": "code",
     "collapsed": false,
     "input": [
      "from pybrain.datasets import SupervisedDataSet\n",
      "from pybrain.tools.shortcuts import buildNetwork\n",
      "from pybrain.supervised.trainers import BackpropTrainer\n",
      "import pickle\n",
      "import scipy as sp\n",
      "import numpy as np\n",
      "import pylab as pl\n",
      "\n",
      "x = np.linspace(0, 4*np.pi, 100)\n",
      "ds = SupervisedDataSet(1,1)\n",
      "\n",
      "for i in x:\n",
      "    ds.addSample(i,sin(i))\n",
      "print ds\n",
      "\n",
      "n = buildNetwork(ds.indim,3,3,3,ds.outdim,recurrent=True)\n",
      "t = BackpropTrainer(n,learningrate=0.01,momentum=0.5,verbose=True)\n",
      "t.trainOnDataset(ds,1000)\n",
      "t.testOnData(verbose=True)\n",
      "\n",
      "fileObject = open('trained_net', 'w')\n",
      "pickle.dump(n, fileObject)\n",
      "fileObject.close()\n",
      "\n",
      "fileObject = open('trained_net','r')\n",
      "net = pickle.load(fileObject)\n",
      "\n",
      "y = []\n",
      "for i in x:\n",
      "    y.append(net.activate(i))\n",
      "\n",
      "pl.plot(x,y)\n",
      "pl.plot(x,np.sin(x))\n",
      "pl.show()"
     ],
     "language": "python",
     "metadata": {},
     "outputs": []
    }
   ],
   "metadata": {}
  }
 ]
}